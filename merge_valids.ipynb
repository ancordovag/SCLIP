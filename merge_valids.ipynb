{
 "cells": [
  {
   "cell_type": "code",
   "execution_count": null,
   "id": "e21a43da-5c07-4255-b597-d5c15faad6bf",
   "metadata": {},
   "outputs": [],
   "source": [
    "import os\n",
    "europarl_path = os.path.join('europarl', valid_sentences)\n",
    "coco_path = os.path.join('coco', valid_sentences)\n",
    "with open(europarl_path, mode='rt', encoding='utf-8') as file:\n",
    "    lines1 = file.readlines()\n",
    "with open(coco_path, mode='rt', encoding='utf-8') as file:\n",
    "    lines2 = file.readlines()\n",
    "    "
   ]
  }
 ],
 "metadata": {
  "kernelspec": {
   "display_name": "Python 3",
   "language": "python",
   "name": "python3"
  },
  "language_info": {
   "codemirror_mode": {
    "name": "ipython",
    "version": 3
   },
   "file_extension": ".py",
   "mimetype": "text/x-python",
   "name": "python",
   "nbconvert_exporter": "python",
   "pygments_lexer": "ipython3",
   "version": "3.6.9"
  }
 },
 "nbformat": 4,
 "nbformat_minor": 5
}
