{
 "cells": [
  {
   "cell_type": "code",
   "execution_count": 6,
   "id": "01346581-e72e-49a0-aa7c-a12cb421f823",
   "metadata": {},
   "outputs": [],
   "source": [
    "import json\n",
    "import time\n",
    "from googletrans import Translator"
   ]
  },
  {
   "cell_type": "code",
   "execution_count": 21,
   "id": "878a5629-d86b-4820-9326-dc1f03e0516d",
   "metadata": {},
   "outputs": [
    {
     "name": "stdout",
     "output_type": "stream",
     "text": [
      "Caption: A black Honda motorcycle parked in front of a garage.  --> Translation: Czarny motocykl Honda zaparkowany przed garażem.\n",
      "Caption: A dog sitting between its masters feet on a footstool watching tv\n",
      "  --> Translation: Pies siedzący między nogami swojego pana na podnóżku oglądając telewizję\n",
      "Caption: A glass bowl filled with oranges on a table.  --> Translation: Szklana miska wypełniona pomarańczami na stole.\n",
      "Caption: A car is parked on dry grass with kites overhead.  --> Translation: Samochód jest zaparkowany na suchej trawie z latawcami nad głową.\n",
      "Caption: A refrigerator next to a red wall in the kitchen.   --> Translation: Lodówka obok czerwonej ściany w kuchni.\n",
      "Caption: A kitchen with a granite counter top and faucet.  --> Translation: Kuchnia z granitowym blatem i baterią.\n",
      "Caption: a traffic motorcycle cop waits to give a ticket  --> Translation: Policjant na motocyklu drogowym czeka na bilet\n",
      "Caption: Ten porcelain pieces with floral patterns painted on them.  --> Translation: Dziesięć kawałków porcelany z namalowanymi na nich kwiatowymi wzorami.\n",
      "Caption: A large church building with a massive clock tower.  --> Translation: Duży budynek kościoła z masywną wieżą zegarową.\n",
      "Caption: two motocross racers in the middle of a race  --> Translation: dwóch zawodników motocrossowych w środku wyścigu\n"
     ]
    }
   ],
   "source": [
    "translator = Translator()\n",
    "code = \"pl\" # Done: spanish\":\"es\",  \"esperanto\":\"eo\",\"latin\":\"la\",\"german\":\"de\",\"french\":\"fr\" ,\"polish\":\"pl\"  Pending:\n",
    "\n",
    "f_json = open('coco/pairs.json',mode='r',encoding='utf-8')\n",
    "pairs_data = json.load(f_json)\n",
    "data = []\n",
    "for i, pair in enumerate(pairs_data):\n",
    "    image_id = pair[\"image_id\"]\n",
    "    caption = pair[\"caption\"]\n",
    "    translation = translator.translate(caption, dest=code)\n",
    "    new_caption = translation.text\n",
    "    item = {'image_id' : image_id, 'caption':new_caption}\n",
    "    if i % 10 == 0:\n",
    "        print(\"Caption: {}  --> Translation: {}\".format(caption, new_caption))\n",
    "    data.append(item)\n",
    "    time.sleep(1)\n",
    "f_json.close()\n",
    "\n",
    "w_json = open('coco/'+code+'_pairs.json',mode='w',encoding='utf-8')\n",
    "json_string = json.dumps(data)\n",
    "w_json.write(json_string)\n",
    "w_json.close()"
   ]
  },
  {
   "cell_type": "code",
   "execution_count": null,
   "id": "804c6d9e-0748-4d2e-9a54-1f93a2c8cc38",
   "metadata": {},
   "outputs": [],
   "source": []
  }
 ],
 "metadata": {
  "kernelspec": {
   "display_name": "Python 3",
   "language": "python",
   "name": "python3"
  },
  "language_info": {
   "codemirror_mode": {
    "name": "ipython",
    "version": 3
   },
   "file_extension": ".py",
   "mimetype": "text/x-python",
   "name": "python",
   "nbconvert_exporter": "python",
   "pygments_lexer": "ipython3",
   "version": "3.6.9"
  }
 },
 "nbformat": 4,
 "nbformat_minor": 5
}
