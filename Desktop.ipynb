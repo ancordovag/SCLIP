{
 "cells": [
  {
   "cell_type": "code",
   "execution_count": 2,
   "id": "bfb8d42b-3348-42b9-80a0-456d68cbc583",
   "metadata": {},
   "outputs": [],
   "source": [
    "import time"
   ]
  },
  {
   "cell_type": "code",
   "execution_count": 7,
   "id": "04b568d2-91a6-4abb-b039-a7016cd789dd",
   "metadata": {},
   "outputs": [],
   "source": [
    "actual_time = time.strftime(\"%Y/%m/%d, %H:%M:%S\", time.gmtime(time.time()))"
   ]
  },
  {
   "cell_type": "code",
   "execution_count": 8,
   "id": "4ff369ec-532f-4da0-a395-fbb7dd8a5528",
   "metadata": {},
   "outputs": [
    {
     "data": {
      "text/plain": [
       "'2022/03/06, 11:52:20'"
      ]
     },
     "execution_count": 8,
     "metadata": {},
     "output_type": "execute_result"
    }
   ],
   "source": [
    "actual_time"
   ]
  },
  {
   "cell_type": "code",
   "execution_count": 5,
   "id": "5e50bc4d-d50d-493a-b67a-8e477f070448",
   "metadata": {},
   "outputs": [
    {
     "data": {
      "text/plain": [
       "float"
      ]
     },
     "execution_count": 5,
     "metadata": {},
     "output_type": "execute_result"
    }
   ],
   "source": [
    "type(t)"
   ]
  },
  {
   "cell_type": "code",
   "execution_count": null,
   "id": "6807e77d-9962-404d-ad2e-62728442e3bf",
   "metadata": {},
   "outputs": [],
   "source": []
  }
 ],
 "metadata": {
  "kernelspec": {
   "display_name": "Python 3",
   "language": "python",
   "name": "python3"
  },
  "language_info": {
   "codemirror_mode": {
    "name": "ipython",
    "version": 3
   },
   "file_extension": ".py",
   "mimetype": "text/x-python",
   "name": "python",
   "nbconvert_exporter": "python",
   "pygments_lexer": "ipython3",
   "version": "3.6.9"
  }
 },
 "nbformat": 4,
 "nbformat_minor": 5
}
