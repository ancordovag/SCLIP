{
 "cells": [
  {
   "cell_type": "code",
   "execution_count": null,
   "id": "bfb8d42b-3348-42b9-80a0-456d68cbc583",
   "metadata": {},
   "outputs": [],
   "source": [
    "import torch\n",
    "import time\n",
    "import re"
   ]
  },
  {
   "cell_type": "code",
   "execution_count": null,
   "id": "28145f77-5c92-4e74-a5e3-a8e6141310dc",
   "metadata": {},
   "outputs": [],
   "source": [
    " from europarl_preprocessing import write_new_files"
   ]
  },
  {
   "cell_type": "code",
   "execution_count": null,
   "id": "3c079212-525e-4b4d-b28f-4b1cfea0f095",
   "metadata": {},
   "outputs": [],
   "source": [
    "import os\n",
    "\n",
    "tsz = 500000\n",
    "vate_size = int(tsz/4)\n",
    "write_new_files(tsz, vate_size, vate_size, max_sentence_length=50)\n",
    "\n",
    "def get_number_lines(path):\n",
    "    with open(path, 'r') as file:\n",
    "        lines = file.readlines()\n",
    "    return len(lines)        \n",
    "\n",
    "path = os.path.join('europarl','Europarl.en-es.en')\n",
    "get_number_lines(path)"
   ]
  },
  {
   "cell_type": "code",
   "execution_count": null,
   "id": "3c8a8db8-adc0-4b1e-ac4a-f65da39b8cb2",
   "metadata": {},
   "outputs": [],
   "source": [
    "import clip\n",
    "\n",
    "device = \"cuda\" if torch.cuda.is_available() else \"cpu\"\n",
    "directory = 'europarl'\n",
    "\n",
    "def regexification(sentences):\n",
    "    regex = [r\"[^A-Za-z0-9]+|[a-zA-Z][0-9]\", r\"(?<!\\d)[0]\\d*(?!\\d)\", r\"\\s+\", r\"[0-9]+\"]\n",
    "    for r in regex:\n",
    "        sentences = list(map(lambda sentence: re.sub(r, \" \", sentence), sentences))\n",
    "    return sentences\n",
    "\n",
    "def get_files_paths(directory):\n",
    "    train_txt = 'train_sentences.txt'    \n",
    "    valid_txt = 'valid_sentences.txt'\n",
    "    test_txt = 'test_sentences.txt'\n",
    "    train_path = os.path.join(directory,train_txt)    \n",
    "    valid_path = os.path.join(directory,valid_txt)\n",
    "    test_path = os.path.join(directory,test_txt)\n",
    "    return train_path, valid_path, test_path\n",
    "\n",
    "def get_sentences_from_file(filename):\n",
    "    sentences = []\n",
    "    with open(filename, mode='rt', encoding='utf-8') as file_object:\n",
    "        for line in file_object:\n",
    "            sentences.append(line)    \n",
    "    return sentences\n",
    "\n",
    "def get_clip_embeddings(sentences, batch_size=32):\n",
    "    tokenized_text = clip.tokenize(sentences).to(device)\n",
    "    with torch.no_grad():\n",
    "        clip_embeddings_list = []\n",
    "        for i in range(0,tokenized_text.size()[0],batch_size):\n",
    "            tok_batch = tokenized_text[i:i+batch_size]\n",
    "            clip_embeddings_batch = clip_model.encode_text(tok_batch).to(device)\n",
    "            for unity in clip_embeddings_batch:\n",
    "                clip_embeddings_list.append(unity)\n",
    "    final_emb = torch.stack(clip_embeddings_list)\n",
    "    return final_emb"
   ]
  },
  {
   "cell_type": "code",
   "execution_count": null,
   "id": "f5dd9d89-a9e1-4b23-9846-ea28101a7b33",
   "metadata": {},
   "outputs": [],
   "source": [
    "train_file, valid_file, test_file = get_files_paths(directory)\n",
    "train_len = get_number_lines(train_file)\n",
    "valid_len = get_number_lines(valid_file)\n",
    "test_len = get_number_lines(test_file)\n",
    "print([train_len, valid_len,test_len])"
   ]
  },
  {
   "cell_type": "code",
   "execution_count": null,
   "id": "bbb73be3-cc21-459f-9584-55d415c5e03b",
   "metadata": {},
   "outputs": [],
   "source": [
    "clip_model, preprocess = clip.load(\"ViT-B/32\", device=device)\n",
    "clip_model.eval()\n",
    "print(\"done\")"
   ]
  },
  {
   "cell_type": "code",
   "execution_count": null,
   "id": "e8cc686b-e05f-4773-98c0-eac3070b8a6e",
   "metadata": {},
   "outputs": [],
   "source": [
    "train_sentences = regexification(get_sentences_from_file(train_file))\n",
    "valid_sentences = regexification(get_sentences_from_file(valid_file))\n",
    "train_clip_embeddings = get_clip_embeddings(train_sentences)\n",
    "valid_clip_embeddings = get_clip_embeddings(valid_sentences)"
   ]
  },
  {
   "cell_type": "code",
   "execution_count": null,
   "id": "57c17194-8c75-4e77-a12c-e966f7165fe6",
   "metadata": {},
   "outputs": [],
   "source": []
  }
 ],
 "metadata": {
  "kernelspec": {
   "display_name": "Python 3",
   "language": "python",
   "name": "python3"
  },
  "language_info": {
   "codemirror_mode": {
    "name": "ipython",
    "version": 3
   },
   "file_extension": ".py",
   "mimetype": "text/x-python",
   "name": "python",
   "nbconvert_exporter": "python",
   "pygments_lexer": "ipython3",
   "version": "3.6.9"
  }
 },
 "nbformat": 4,
 "nbformat_minor": 5
}
