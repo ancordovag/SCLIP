{
 "cells": [
  {
   "cell_type": "code",
   "execution_count": 16,
   "id": "bfb8d42b-3348-42b9-80a0-456d68cbc583",
   "metadata": {},
   "outputs": [],
   "source": [
    "import torch\n",
    "import torch.nn as nn"
   ]
  },
  {
   "cell_type": "code",
   "execution_count": 34,
   "id": "04b568d2-91a6-4abb-b039-a7016cd789dd",
   "metadata": {},
   "outputs": [],
   "source": [
    "rnn = nn.LSTM(384, 20, 1)\n",
    "input = torch.randn(384)\n",
    "embedded = input.view(-1, 1, 384)\n",
    "h0 = torch.randn(1, 1, 20)\n",
    "c0 = torch.randn(1, 1, 20)"
   ]
  },
  {
   "cell_type": "code",
   "execution_count": 35,
   "id": "65888041-9086-47d9-b3f3-b2076f71552a",
   "metadata": {},
   "outputs": [
    {
     "data": {
      "text/plain": [
       "torch.Size([384])"
      ]
     },
     "execution_count": 35,
     "metadata": {},
     "output_type": "execute_result"
    }
   ],
   "source": [
    "input.shape"
   ]
  },
  {
   "cell_type": "code",
   "execution_count": 36,
   "id": "0dda4ddd-7375-4706-b043-3eacbfb9ca97",
   "metadata": {},
   "outputs": [
    {
     "data": {
      "text/plain": [
       "torch.Size([1, 1, 384])"
      ]
     },
     "execution_count": 36,
     "metadata": {},
     "output_type": "execute_result"
    }
   ],
   "source": [
    "embedded.shape"
   ]
  },
  {
   "cell_type": "code",
   "execution_count": 37,
   "id": "63d2ded5-0bb0-43b2-8055-041aa7cacf92",
   "metadata": {},
   "outputs": [],
   "source": [
    "output, (hn, cn) = rnn(embedded, (h0, c0))"
   ]
  },
  {
   "cell_type": "code",
   "execution_count": 38,
   "id": "cf74d0fe-0a77-4686-9e4d-f60f84ba144a",
   "metadata": {},
   "outputs": [
    {
     "data": {
      "text/plain": [
       "torch.Size([1, 1, 20])"
      ]
     },
     "execution_count": 38,
     "metadata": {},
     "output_type": "execute_result"
    }
   ],
   "source": [
    "output.shape"
   ]
  },
  {
   "cell_type": "code",
   "execution_count": null,
   "id": "4ff369ec-532f-4da0-a395-fbb7dd8a5528",
   "metadata": {},
   "outputs": [],
   "source": []
  }
 ],
 "metadata": {
  "kernelspec": {
   "display_name": "Python 3 (ipykernel)",
   "language": "python",
   "name": "python3"
  },
  "language_info": {
   "codemirror_mode": {
    "name": "ipython",
    "version": 3
   },
   "file_extension": ".py",
   "mimetype": "text/x-python",
   "name": "python",
   "nbconvert_exporter": "python",
   "pygments_lexer": "ipython3",
   "version": "3.7.10"
  }
 },
 "nbformat": 4,
 "nbformat_minor": 5
}
