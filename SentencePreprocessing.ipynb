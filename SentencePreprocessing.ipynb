{
 "cells": [
  {
   "cell_type": "code",
   "execution_count": 1,
   "metadata": {
    "id": "x55793qodkqc"
   },
   "outputs": [],
   "source": [
    "# Name of the directory and files\n",
    "environment = \"local\"\n",
    "if environment == \"drive\":\n",
    "    dirname = 'drive/MyDrive/europarl/'\n",
    "else:\n",
    "    dirname = 'europarl/'\n",
    "\n",
    "    \n",
    "english_dir = 'Europarl.en-es.en'\n",
    "\n",
    "def length_doc(filename):\n",
    "\t\"\"\"Get the lines of text in a file\"\"\"\n",
    "\t# open the file as read only\n",
    "\tfile = open(filename, mode='rt', encoding='utf-8')\n",
    "\tline_count = 0\n",
    "\tfor line in file:\n",
    "\t\tif line != \"\\n\":\n",
    "\t\t\tline_count += 1\n",
    "\t# close the file\n",
    "\tfile.close()\n",
    "\treturn line_count\n",
    "\n",
    "english_filename = dirname + '/' + english_dir"
   ]
  },
  {
   "cell_type": "code",
   "execution_count": 2,
   "metadata": {
    "colab": {
     "base_uri": "https://localhost:8080/"
    },
    "id": "AsooDoKNejuf",
    "outputId": "51dd7566-6be3-4c4c-ffa2-98c0f2b44231"
   },
   "outputs": [
    {
     "name": "stdout",
     "output_type": "stream",
     "text": [
      "Algunos Ejemplos: \n"
     ]
    }
   ],
   "source": [
    "# Open the files\n",
    "train_file = open(dirname + 'train_sentences.txt',mode='w',encoding='utf-8')\n",
    "test_file = open(dirname + 'test_sentences.txt',mode='w',encoding='utf-8')\n",
    "valid_file = open(dirname + 'valid_sentences.txt',mode='w',encoding='utf-8')\n",
    "max_training_lines = 500\n",
    "max_testing_lines = 125\n",
    "max_validation_lines = 125\n",
    "max_sentence_length = 20\n",
    "\n",
    "print(\"Algunos Ejemplos: \")\n",
    "lines_counter = 0\n",
    "with open(english_filename, mode='rt', encoding='utf-8') as english_file:\n",
    "  for english_line in english_file:\n",
    "    english_line = english_file.readline().rstrip('\\n')\n",
    "    number_words = len(english_line.split())\n",
    "    if number_words < max_sentence_length:\n",
    "      lines_counter += 1\n",
    "      if lines_counter % 1000 == 0:\n",
    "        print(english_line)\n",
    "      if lines_counter <= max_training_lines:\n",
    "        train_file.write(english_line + '\\n')\n",
    "        continue\n",
    "      if lines_counter <= max_training_lines + max_testing_lines:\n",
    "        test_file.write(english_line + '\\n')\n",
    "        continue\n",
    "      valid_file.write(english_line + '\\n')\n",
    "      if lines_counter >= max_training_lines + max_testing_lines + max_validation_lines:\n",
    "        break     \n",
    "\n",
    "english_file.close()\n",
    "train_file.close()\n",
    "test_file.close()\n",
    "valid_file.close()"
   ]
  },
  {
   "cell_type": "code",
   "execution_count": null,
   "metadata": {
    "id": "ZbLVyx1RhCVe"
   },
   "outputs": [],
   "source": []
  }
 ],
 "metadata": {
  "colab": {
   "collapsed_sections": [],
   "name": "SentencePreprocessing.ipynb",
   "provenance": []
  },
  "kernelspec": {
   "display_name": "Python 3 (ipykernel)",
   "language": "python",
   "name": "python3"
  },
  "language_info": {
   "codemirror_mode": {
    "name": "ipython",
    "version": 3
   },
   "file_extension": ".py",
   "mimetype": "text/x-python",
   "name": "python",
   "nbconvert_exporter": "python",
   "pygments_lexer": "ipython3",
   "version": "3.7.10"
  }
 },
 "nbformat": 4,
 "nbformat_minor": 4
}
