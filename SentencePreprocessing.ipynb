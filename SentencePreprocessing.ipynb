{
  "nbformat": 4,
  "nbformat_minor": 0,
  "metadata": {
    "colab": {
      "name": "SentencePreprocessing.ipynb",
      "provenance": [],
      "collapsed_sections": []
    },
    "kernelspec": {
      "name": "python3",
      "display_name": "Python 3"
    },
    "language_info": {
      "name": "python"
    }
  },
  "cells": [
    {
      "cell_type": "code",
      "execution_count": null,
      "metadata": {
        "id": "x55793qodkqc"
      },
      "outputs": [],
      "source": [
        "# Name of the directory and files\n",
        "dirname = 'drive/MyDrive/europarl/'\n",
        "english_dir = 'Europarl.en-es.en'\n",
        "\n",
        "def length_doc(filename):\n",
        "\t\"\"\"Get the lines of text in a file\"\"\"\n",
        "\t# open the file as read only\n",
        "\tfile = open(filename, mode='rt', encoding='utf-8')\n",
        "\tline_count = 0\n",
        "\tfor line in file:\n",
        "\t\tif line != \"\\n\":\n",
        "\t\t\tline_count += 1\n",
        "\t# close the file\n",
        "\tfile.close()\n",
        "\treturn line_count\n",
        "\n",
        "english_filename = dirname + '/' + english_dir"
      ]
    },
    {
      "cell_type": "code",
      "source": [
        "# Open the files\n",
        "train_file = open('drive/MyDrive/europarl/train_sentences.txt',mode='w',encoding='utf-8')\n",
        "test_file = open('drive/MyDrive/europarl/test_sentences.txt',mode='w',encoding='utf-8')\n",
        "valid_file = open('drive/MyDrive/europarl/valid_sentences.txt',mode='w',encoding='utf-8')\n",
        "max_training_lines = 2000\n",
        "max_testing_lines = 500\n",
        "max_validation_lines = 500\n",
        "max_sentence_length = 20\n",
        "\n",
        "print(\"Algunos Ejemplos: \")\n",
        "lines_counter = 0\n",
        "with open(english_filename, mode='rt', encoding='utf-8') as english_file:\n",
        "  for english_line in english_file:\n",
        "    english_line = english_file.readline().rstrip('\\n')\n",
        "    number_words = len(english_line.split())\n",
        "    if number_words < max_sentence_length:\n",
        "      lines_counter += 1\n",
        "      if lines_counter % 1000 == 0:\n",
        "        print(english_line)\n",
        "      if lines_counter <= max_training_lines:\n",
        "        train_file.write(english_line + '\\n')\n",
        "        continue\n",
        "      if lines_counter <= max_training_lines + max_testing_lines:\n",
        "        test_file.write(english_line + '\\n')\n",
        "        continue\n",
        "      valid_file.write(english_line + '\\n')\n",
        "      if lines_counter >= max_training_lines + max_testing_lines + max_validation_lines:\n",
        "        break     \n",
        "\n",
        "english_file.close()\n",
        "train_file.close()\n",
        "test_file.close()\n",
        "valid_file.close()"
      ],
      "metadata": {
        "colab": {
          "base_uri": "https://localhost:8080/"
        },
        "id": "AsooDoKNejuf",
        "outputId": "51dd7566-6be3-4c4c-ffa2-98c0f2b44231"
      },
      "execution_count": null,
      "outputs": [
        {
          "output_type": "stream",
          "name": "stdout",
          "text": [
            "Algunos Ejemplos: \n",
            "We must also ask if there is not a need for fiscal justice.\n",
            "Nor was any mention made of information policy and communications catering to the needs of our citizens.\n",
            "Why has the Commission not informed us of this formal request from Macedonia?\n"
          ]
        }
      ]
    },
    {
      "cell_type": "code",
      "source": [
        ""
      ],
      "metadata": {
        "id": "ZbLVyx1RhCVe"
      },
      "execution_count": null,
      "outputs": []
    }
  ]
}