{
 "cells": [
  {
   "cell_type": "code",
   "execution_count": 1,
   "metadata": {},
   "outputs": [],
   "source": [
    "import yaml\n",
    "import os"
   ]
  },
  {
   "cell_type": "code",
   "execution_count": 2,
   "metadata": {},
   "outputs": [],
   "source": [
    "with open(\"config.yml\", \"r\") as ymlfile:\n",
    "    cfg = yaml.safe_load(ymlfile)\n",
    "\n",
    "params = cfg[\"gcc\"]\n",
    "data_dir = params[\"data_dir\"]\n",
    "out_dir = params[\"out_dir\"]"
   ]
  },
  {
   "cell_type": "code",
   "execution_count": 3,
   "metadata": {},
   "outputs": [
    {
     "name": "stdout",
     "output_type": "stream",
     "text": [
      "Sizes: Train 2654666; Valid 331833; Test 331833\n"
     ]
    }
   ],
   "source": [
    "if not os.path.exists(out_dir):\n",
    "    os.makedirs(out_dir)\n",
    "\n",
    "filename = os.path.join(data_dir, 'Train_GCC-training.tsv')\n",
    "\n",
    "# Open the files\n",
    "train_file = open(os.path.join(data_dir, 'big_train_file.txt'), mode='w', encoding='utf-8')\n",
    "valid_file = open(os.path.join(data_dir, 'big_valid_file.txt'), mode='w', encoding='utf-8')\n",
    "test_file = open(os.path.join(data_dir, 'big_test_file.txt'), mode='w', encoding='utf-8')\n",
    "\n",
    "with open(filename, mode = 'r', encoding='utf-8') as file:\n",
    "    lines = file.readlines()\n",
    "    total_lines = len(lines)\n",
    "\n",
    "max_train_lines = int(total_lines*0.8)\n",
    "max_valid_lines = int(total_lines*0.1)\n",
    "max_test_lines = int(total_lines*0.1)\n",
    "\n",
    "print(\"Sizes: Train {}; Valid {}; Test {}\".format(max_train_lines, max_valid_lines, max_test_lines))"
   ]
  },
  {
   "cell_type": "code",
   "execution_count": 4,
   "metadata": {},
   "outputs": [
    {
     "name": "stdout",
     "output_type": "stream",
     "text": [
      "Lines written: 3318333\n"
     ]
    }
   ],
   "source": [
    "lines_counter = 0\n",
    "for line in lines:\n",
    "    lines_counter += 1\n",
    "    caption, url = line.split('\\t')\n",
    "    if lines_counter <= max_train_lines:\n",
    "        train_file.write(caption.rstrip('\\n') + '\\n')\n",
    "        continue\n",
    "    if lines_counter <= max_train_lines + max_valid_lines:\n",
    "        valid_file.write(caption.rstrip('\\n') + '\\n')\n",
    "        continue\n",
    "    test_file.write(caption.rstrip('\\n') + '\\n')\n",
    "\n",
    "print(\"Lines written: {}\".format(lines_counter)) "
   ]
  },
  {
   "cell_type": "code",
   "execution_count": null,
   "metadata": {},
   "outputs": [],
   "source": []
  }
 ],
 "metadata": {
  "kernelspec": {
   "display_name": "Python 3 (ipykernel)",
   "language": "python",
   "name": "python3"
  },
  "language_info": {
   "codemirror_mode": {
    "name": "ipython",
    "version": 3
   },
   "file_extension": ".py",
   "mimetype": "text/x-python",
   "name": "python",
   "nbconvert_exporter": "python",
   "pygments_lexer": "ipython3",
   "version": "3.10.8"
  }
 },
 "nbformat": 4,
 "nbformat_minor": 4
}
