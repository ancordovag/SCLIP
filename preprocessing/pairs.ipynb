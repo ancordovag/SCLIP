{
 "cells": [
  {
   "cell_type": "code",
   "execution_count": 4,
   "metadata": {},
   "outputs": [
    {
     "name": "stdout",
     "output_type": "stream",
     "text": [
      "Number of pairs: 450\n"
     ]
    }
   ],
   "source": [
    "from os import listdir\n",
    "from os.path import isfile, join\n",
    "import json\n",
    "import yaml\n",
    "import os\n",
    "\n",
    "def create_pairs():\n",
    "    with open(\"config.yml\", \"r\") as ymlfile: #open(os.path.join(\"preprocessing\", \"config.yml\"), \"r\") as ymlfile:\n",
    "        cfg = yaml.safe_load(ymlfile)\n",
    "    coco_config = cfg[\"coco\"]\n",
    "    images_directory = coco_config[\"image_dir\"]\n",
    "    amount_pairs = coco_config[\"pairs\"]\n",
    "    annotation_directory = os.path.join(coco_config[\"caption_dir\"], 'captions_val2017.json')\n",
    "\n",
    "    f_val = open(annotation_directory)\n",
    "    val_data = json.load(f_val)\n",
    "\n",
    "    onlyfiles = [f for f in listdir(images_directory) if isfile(join(images_directory, f))]\n",
    "\n",
    "    # Creating Validation file\n",
    "    count = 0\n",
    "    data = []\n",
    "    for element in val_data[\"annotations\"]:\n",
    "        caption = element[\"caption\"]\n",
    "        for z in range(6,8):\n",
    "            zeros = '0'*z\n",
    "            image_id = zeros + str(element[\"image_id\"]) + '.jpg'        \n",
    "            if image_id in onlyfiles:\n",
    "                item = {'image_id': image_id, 'caption': caption}\n",
    "                data.append(item)\n",
    "                onlyfiles.remove(image_id)\n",
    "                count += 1\n",
    "                break\n",
    "        if count >= amount_pairs:\n",
    "            break\n",
    "            \n",
    "    f_val.close()\n",
    "    print(\"Number of pairs: {}\".format(count))\n",
    "\n",
    "    pairs_file = open(os.path.join(coco_config[\"out_dir\"], 'en_pairs.json'), mode='w', encoding='utf-8')\n",
    "    json_string = json.dumps(data)\n",
    "    pairs_file.write(json_string)\n",
    "    pairs_file.close()\n",
    "    \n",
    "if __name__ == \"__main__\":\n",
    "    create_pairs()"
   ]
  },
  {
   "cell_type": "code",
   "execution_count": null,
   "metadata": {},
   "outputs": [],
   "source": []
  },
  {
   "cell_type": "code",
   "execution_count": null,
   "metadata": {},
   "outputs": [],
   "source": []
  }
 ],
 "metadata": {
  "kernelspec": {
   "display_name": "Python 3",
   "language": "python",
   "name": "python3"
  },
  "language_info": {
   "codemirror_mode": {
    "name": "ipython",
    "version": 3
   },
   "file_extension": ".py",
   "mimetype": "text/x-python",
   "name": "python",
   "nbconvert_exporter": "python",
   "pygments_lexer": "ipython3",
   "version": "3.6.9"
  }
 },
 "nbformat": 4,
 "nbformat_minor": 4
}
