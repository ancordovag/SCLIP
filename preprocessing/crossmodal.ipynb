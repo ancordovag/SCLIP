{
 "cells": [
  {
   "cell_type": "code",
   "execution_count": 49,
   "id": "951cdc61-f005-408a-ac6c-93255862c933",
   "metadata": {},
   "outputs": [],
   "source": [
    "import json\n",
    "import os\n",
    "import yaml"
   ]
  },
  {
   "cell_type": "code",
   "execution_count": 50,
   "id": "861a2320-61f0-4d66-802b-8056dcc23e46",
   "metadata": {},
   "outputs": [],
   "source": [
    "set_maximum = 500"
   ]
  },
  {
   "cell_type": "code",
   "execution_count": 51,
   "id": "ee18820f-7da6-4079-ac15-c70ff04795c2",
   "metadata": {},
   "outputs": [
    {
     "name": "stdout",
     "output_type": "stream",
     "text": [
      "Lines 3600\n"
     ]
    }
   ],
   "source": [
    "with open(\"../crossmodal/captions.jsonl\",\"r\") as file:\n",
    "    lines = file.readlines()\n",
    "print(\"Lines {}\".format(len(lines)))\n",
    "jason = json.loads(lines[0])"
   ]
  },
  {
   "cell_type": "code",
   "execution_count": 52,
   "id": "05f5e6f4-334f-4ace-8c79-f4369c787766",
   "metadata": {},
   "outputs": [
    {
     "name": "stdout",
     "output_type": "stream",
     "text": [
      "{'english': 'en', 'spanish': 'es', 'italian': 'it', 'german': 'de', 'french': 'fr', 'polish': 'pl'}\n"
     ]
    }
   ],
   "source": [
    "with open(os.path.join(\"../preprocessing\", \"config.yml\"), \"r\") as ymlfile:\n",
    "    cfg = yaml.safe_load(ymlfile)\n",
    "directory = cfg[\"crossmodal\"][\"out_dir\"]\n",
    "image_directory = cfg[\"crossmodal\"][\"image_dir\"]\n",
    "languages = cfg[\"languages\"]\n",
    "print(languages)"
   ]
  },
  {
   "cell_type": "code",
   "execution_count": 53,
   "id": "3226d2ee-8237-420c-82bf-186f337dcbdc",
   "metadata": {},
   "outputs": [],
   "source": [
    "counter = 0\n",
    "for lang, code in languages.items():\n",
    "    counter = 0\n",
    "    name_of_file = os.path.join(\"..\",\"crossmodal\",code + \"_pairs.json\")\n",
    "    if os.path.exists(name_of_file):\n",
    "        os.remove(name_of_file)\n",
    "    data = []\n",
    "    for line in lines:\n",
    "        if counter >= set_maximum:\n",
    "            break\n",
    "        jason = json.loads(line)\n",
    "        caption = jason[code][\"caption\"][0]\n",
    "        image_id = jason[\"image/key\"]+\".jpg\"\n",
    "        item = {'image_id': image_id, 'caption': caption}\n",
    "        data.append(item)\n",
    "        counter +=1\n",
    "    with open(name_of_file,\"a\") as pair_file:\n",
    "        json_string = json.dumps(data)\n",
    "        pair_file.write(json_string)"
   ]
  },
  {
   "cell_type": "code",
   "execution_count": null,
   "id": "5fa8ee10-1f4f-4a0f-8e35-8cf5c9252272",
   "metadata": {},
   "outputs": [],
   "source": []
  }
 ],
 "metadata": {
  "kernelspec": {
   "display_name": "Python 3 (ipykernel)",
   "language": "python",
   "name": "python3"
  },
  "language_info": {
   "codemirror_mode": {
    "name": "ipython",
    "version": 3
   },
   "file_extension": ".py",
   "mimetype": "text/x-python",
   "name": "python",
   "nbconvert_exporter": "python",
   "pygments_lexer": "ipython3",
   "version": "3.10.8"
  }
 },
 "nbformat": 4,
 "nbformat_minor": 5
}
