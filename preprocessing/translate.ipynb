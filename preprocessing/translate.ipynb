{
 "cells": [
  {
   "cell_type": "code",
   "execution_count": null,
   "metadata": {},
   "outputs": [
    {
     "name": "stdout",
     "output_type": "stream",
     "text": [
      "Translating to spanish with code es\n",
      "Debug - Caption: A black Honda motorcycle parked in front of a garage.  --> Translation: Una motocicleta Honda negra estacionada frente a un garaje.\n",
      "Debug - Caption: A large church building with a massive clock tower.  --> Translation: Un gran edificio de la iglesia con una torre de reloj masiva.\n",
      "Debug - Caption: Two men wearing suits and hats are walking together.  --> Translation: Dos hombres con trajes y sombreros caminan juntos.\n",
      "Debug - Caption: A row of motorcycles parked together on a grass yard area with a house in the background.  --> Translation: Una hilera de motocicletas se estacionó en una zona de patio de hierba con una casa en el fondo.\n",
      "Debug - Caption: A bathroom with a toilet, shower and an hanging chain to flush the toilet.   --> Translation: Un baño con inodoro, ducha y una cadena de colgantes para descargar el inodoro.\n",
      "Language spanish finished\n",
      "Translating to italian with code it\n",
      "Debug - Caption: A black Honda motorcycle parked in front of a garage.  --> Translation: Una motocicletta Honda nera parcheggiata davanti a un garage.\n",
      "Debug - Caption: A large church building with a massive clock tower.  --> Translation: Un grande edificio in chiesa con una massiccia torre dell'orologio.\n",
      "Debug - Caption: Two men wearing suits and hats are walking together.  --> Translation: Due uomini che indossano abiti e cappelli stanno camminando insieme.\n"
     ]
    }
   ],
   "source": [
    "import json\n",
    "import time\n",
    "from googletrans import Translator\n",
    "import yaml\n",
    "from pathlib import Path\n",
    "import os\n",
    "\n",
    "if __name__ == '__main__':\n",
    "\n",
    "    with open(\"config.yml\", \"r\") as ymlfile: #with open(os.path.join(\"preprocessing\",\"config.yml\"), \"r\") as ymlfile:\n",
    "        cfg = yaml.safe_load(ymlfile)\n",
    "    directory = cfg[\"coco\"][\"out_dir\"]\n",
    "    languages = cfg[\"languages\"]\n",
    "\n",
    "    # source data\n",
    "    f_json = open(os.path.join(directory, 'en_pairs.json'), mode='r', encoding='utf-8')\n",
    "    pairs_data = json.load(f_json)\n",
    "\n",
    "    for lang, code in languages.items():\n",
    "        if code == \"en\":\n",
    "            continue\n",
    "\n",
    "        path = os.path.join(directory, '{}_pairs.json'.format(code))\n",
    "        if os.path.isfile(path):\n",
    "            print(\"Skipping language {}\".format(lang))\n",
    "            continue\n",
    "        else:\n",
    "            w_json = open(path, mode='w', encoding='utf-8')\n",
    "\n",
    "        print(\"Translating to {} with code {}\".format(lang, code))\n",
    "        translator = Translator()\n",
    "\n",
    "        data = []\n",
    "        for i, pair in enumerate(pairs_data):\n",
    "            image_id = pair[\"image_id\"]\n",
    "            caption = pair[\"caption\"]\n",
    "            translation = translator.translate(caption, dest=code)\n",
    "            new_caption = translation.text\n",
    "            item = {'image_id': image_id, 'caption': new_caption}\n",
    "            if i % 100 == 0:\n",
    "                print(\"Debug - Caption: {}  --> Translation: {}\".format(caption, new_caption))\n",
    "            data.append(item)\n",
    "            time.sleep(0.03)\n",
    "        f_json.close()\n",
    "\n",
    "        json_string = json.dumps(data)\n",
    "        w_json.write(json_string)\n",
    "        w_json.close()\n",
    "        time.sleep(0.05)\n",
    "        print(\"Language {} finished\".format(lang))\n",
    "    print(\"Done\")"
   ]
  },
  {
   "cell_type": "code",
   "execution_count": null,
   "metadata": {},
   "outputs": [],
   "source": []
  }
 ],
 "metadata": {
  "kernelspec": {
   "display_name": "Python 3",
   "language": "python",
   "name": "python3"
  },
  "language_info": {
   "codemirror_mode": {
    "name": "ipython",
    "version": 3
   },
   "file_extension": ".py",
   "mimetype": "text/x-python",
   "name": "python",
   "nbconvert_exporter": "python",
   "pygments_lexer": "ipython3",
   "version": "3.6.9"
  }
 },
 "nbformat": 4,
 "nbformat_minor": 4
}
