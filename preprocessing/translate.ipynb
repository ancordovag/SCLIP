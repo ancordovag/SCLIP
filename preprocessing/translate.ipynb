{
 "cells": [
  {
   "cell_type": "code",
   "execution_count": 1,
   "metadata": {},
   "outputs": [],
   "source": [
    "import json\n",
    "import time\n",
    "from googletrans import Translator\n",
    "import yaml\n",
    "from pathlib import Path\n",
    "import os\n",
    "\n",
    "with open(\"config.yml\", \"r\") as ymlfile: #with open(os.path.join(\"preprocessing\",\"config.yml\"), \"r\") as ymlfile:\n",
    "    cfg = yaml.safe_load(ymlfile)\n",
    "directory = cfg[\"coco\"][\"out_dir\"]\n",
    "languages = cfg[\"languages\"]\n",
    "\n",
    "# source data\n",
    "f_json = open(os.path.join(directory, 'en_pairs.json'), mode='r', encoding='utf-8')\n",
    "pairs_data = json.load(f_json)"
   ]
  },
  {
   "cell_type": "code",
   "execution_count": 2,
   "metadata": {},
   "outputs": [
    {
     "name": "stdout",
     "output_type": "stream",
     "text": [
      "Translating to spanish with code es\n",
      "Debug - Caption: A black Honda motorcycle parked in front of a garage.  --> Translation: Una motocicleta Honda negra estacionada frente a un garaje.\n",
      "Debug - Caption: A large church building with a massive clock tower.  --> Translation: Un gran edificio de la iglesia con una torre de reloj masiva.\n",
      "Debug - Caption: Two men wearing suits and hats are walking together.  --> Translation: Dos hombres con trajes y sombreros caminan juntos.\n",
      "Debug - Caption: A row of motorcycles parked together on a grass yard area with a house in the background.  --> Translation: Una hilera de motocicletas se estacionó en una zona de patio de césped con una casa en el fondo.\n",
      "Debug - Caption: A bathroom with a toilet, shower and an hanging chain to flush the toilet.   --> Translation: Un baño con inodoro, ducha y una cadena de colgantes para descargar el inodoro.\n",
      "Language spanish finished\n",
      "Translating to italian with code it\n",
      "Debug - Caption: A black Honda motorcycle parked in front of a garage.  --> Translation: Una motocicletta Honda nera parcheggiava di fronte a un garage.\n",
      "Debug - Caption: A large church building with a massive clock tower.  --> Translation: Un grande edificio in chiesa con una massiccia torre dell'orologio.\n",
      "Debug - Caption: Two men wearing suits and hats are walking together.  --> Translation: Due uomini che indossano abiti e cappelli stanno camminando insieme.\n",
      "Debug - Caption: A row of motorcycles parked together on a grass yard area with a house in the background.  --> Translation: Una fila di motociclette parcheggiate insieme su una zona di un cortile con una casa sullo sfondo.\n",
      "Debug - Caption: A bathroom with a toilet, shower and an hanging chain to flush the toilet.   --> Translation: Un bagno con toilette, doccia e una catena sospesa per sciacquare il bagno.\n",
      "Language italian finished\n",
      "Translating to german with code de\n",
      "Debug - Caption: A black Honda motorcycle parked in front of a garage.  --> Translation: Ein schwarzes Honda -Motorrad, das vor einer Garage geparkt ist.\n",
      "Debug - Caption: A large church building with a massive clock tower.  --> Translation: Ein großes Kirchengebäude mit einem massiven Glockenturm.\n",
      "Debug - Caption: Two men wearing suits and hats are walking together.  --> Translation: Zwei Männer, die Anzüge und Hüte tragen, gehen zusammen.\n",
      "Debug - Caption: A row of motorcycles parked together on a grass yard area with a house in the background.  --> Translation: Eine Reihe von Motorrädern, die zusammen in einem Grashof mit einem Haus im Hintergrund geparkt waren.\n",
      "Debug - Caption: A bathroom with a toilet, shower and an hanging chain to flush the toilet.   --> Translation: Ein Badezimmer mit einer Toilette, einer Dusche und einer hängenden Kette, um die Toilette zu spülen.\n",
      "Language german finished\n",
      "Translating to french with code fr\n",
      "Debug - Caption: A black Honda motorcycle parked in front of a garage.  --> Translation: Une moto Honda noire garée devant un garage.\n",
      "Debug - Caption: A large church building with a massive clock tower.  --> Translation: Un grand bâtiment de l'église avec une tour d'horloge massive.\n",
      "Debug - Caption: Two men wearing suits and hats are walking together.  --> Translation: Deux hommes portant des costumes et des chapeaux marchent ensemble.\n",
      "Debug - Caption: A row of motorcycles parked together on a grass yard area with a house in the background.  --> Translation: Une rangée de motos garées ensemble sur une zone de verge avec une maison en arrière-plan.\n",
      "Debug - Caption: A bathroom with a toilet, shower and an hanging chain to flush the toilet.   --> Translation: Une salle de bain avec des toilettes, une douche et une chaîne suspendue pour rincer les toilettes.\n",
      "Language french finished\n",
      "Translating to polish with code pl\n",
      "Debug - Caption: A black Honda motorcycle parked in front of a garage.  --> Translation: Czarny motocykl Hondy zaparkowany przed garażem.\n",
      "Debug - Caption: A large church building with a massive clock tower.  --> Translation: Duży budynek kościoła z ogromną wieżą zegara.\n",
      "Debug - Caption: Two men wearing suits and hats are walking together.  --> Translation: Dwóch mężczyzn noszących garnitury i czapki idą razem.\n",
      "Debug - Caption: A row of motorcycles parked together on a grass yard area with a house in the background.  --> Translation: Rząd motocykli zaparkowany razem na dzielnicy trawy z domem w tle.\n",
      "Debug - Caption: A bathroom with a toilet, shower and an hanging chain to flush the toilet.   --> Translation: Łazienka z toaletą, prysznicem i wiszącym łańcuchem, aby spłukać toaletę.\n",
      "Language polish finished\n",
      "Done\n"
     ]
    }
   ],
   "source": [
    "for lang, code in languages.items():\n",
    "    if code == \"en\":\n",
    "        continue\n",
    "\n",
    "    path = os.path.join(directory, '{}_pairs.json'.format(code))\n",
    "    if os.path.isfile(path):\n",
    "        print(\"Skipping language {}\".format(lang))\n",
    "        continue\n",
    "    else:\n",
    "        w_json = open(path, mode='w', encoding='utf-8')\n",
    "\n",
    "    print(\"Translating to {} with code {}\".format(lang, code))\n",
    "    translator = Translator()\n",
    "\n",
    "    data = []\n",
    "    for i, pair in enumerate(pairs_data):\n",
    "        image_id = pair[\"image_id\"]\n",
    "        caption = pair[\"caption\"]\n",
    "        translation = translator.translate(caption, dest=code)\n",
    "        new_caption = translation.text\n",
    "        item = {'image_id': image_id, 'caption': new_caption}\n",
    "        if i % 100 == 0:\n",
    "            print(\"Debug - Caption: {}  --> Translation: {}\".format(caption, new_caption))\n",
    "        data.append(item)\n",
    "        time.sleep(0.05)\n",
    "    f_json.close()\n",
    "\n",
    "    json_string = json.dumps(data)\n",
    "    w_json.write(json_string)\n",
    "    w_json.close()\n",
    "    time.sleep(0.05)\n",
    "    print(\"Language {} finished\".format(lang))\n",
    "print(\"Done\")"
   ]
  },
  {
   "cell_type": "code",
   "execution_count": null,
   "metadata": {},
   "outputs": [],
   "source": []
  }
 ],
 "metadata": {
  "kernelspec": {
   "display_name": "Python 3 (ipykernel)",
   "language": "python",
   "name": "python3"
  },
  "language_info": {
   "codemirror_mode": {
    "name": "ipython",
    "version": 3
   },
   "file_extension": ".py",
   "mimetype": "text/x-python",
   "name": "python",
   "nbconvert_exporter": "python",
   "pygments_lexer": "ipython3",
   "version": "3.10.8"
  }
 },
 "nbformat": 4,
 "nbformat_minor": 4
}
