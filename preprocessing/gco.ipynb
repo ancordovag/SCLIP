{
 "cells": [
  {
   "cell_type": "code",
   "execution_count": 5,
   "id": "a9d213a1-cc16-4d76-aabc-f3c0c21350ea",
   "metadata": {},
   "outputs": [],
   "source": [
    "import os\n",
    "import random\n",
    "import yaml"
   ]
  },
  {
   "cell_type": "code",
   "execution_count": 9,
   "id": "2060660b-5780-4e79-8b8c-0df440d9baf9",
   "metadata": {},
   "outputs": [
    {
     "name": "stdout",
     "output_type": "stream",
     "text": [
      "Starting set {t}\n",
      "Merged lines of train\n",
      "Shufled lines of train\n",
      "Set train is done.\n",
      "Starting set {t}\n",
      "Merged lines of test\n",
      "Shufled lines of test\n",
      "Set test is done.\n",
      "Starting set {t}\n",
      "Merged lines of valid\n",
      "Shufled lines of valid\n",
      "Set valid is done.\n"
     ]
    }
   ],
   "source": [
    "with open(\"config.yml\", \"r\") as ymlfile:\n",
    "    cfg = yaml.safe_load(ymlfile)\n",
    "    \n",
    "coco_dir = cfg[\"coco\"][\"data_dir\"]\n",
    "gcc_dir = cfg[\"gcc\"][\"data_dir\"]\n",
    "gco_dir = cfg[\"gco\"][\"data_dir\"]\n",
    "\n",
    "splits = ['train','test','valid']\n",
    "\n",
    "for t in splits:\n",
    "    print(\"Starting set {t}\")\n",
    "    coco_file = os.path.join(coco_dir,f'big_{t}_file.txt')\n",
    "    gcc_file = os.path.join(gcc_dir,f'big_{t}_file.txt')\n",
    "    gco_file = os.path.join(gco_dir,f'big_{t}_file.txt')\n",
    "    \n",
    "    merged_lines = []\n",
    "    with open(coco_file, \"r\") as file:\n",
    "        coco_lines = file.readlines()\n",
    "        for cline in coco_lines:\n",
    "            merged_lines.append(cline)\n",
    "    with open(gcc_file, \"r\") as file:\n",
    "        gcc_lines = file.readlines()\n",
    "        for gline in gcc_lines:\n",
    "            merged_lines.append(gline)\n",
    "    \n",
    "    print(f\"Merged lines of {t}\")\n",
    "    random.shuffle(merged_lines)\n",
    "    print(f\"Shufled lines of {t}\")\n",
    "    \n",
    "    with open(gco_file, \"w\") as file:\n",
    "        file.writelines(merged_lines)\n",
    "        \n",
    "    print(f\"Set {t} is done.\")"
   ]
  },
  {
   "cell_type": "code",
   "execution_count": 11,
   "id": "10709286-3bb0-43f2-8894-fa914f20078a",
   "metadata": {},
   "outputs": [
    {
     "name": "stdout",
     "output_type": "stream",
     "text": [
      "3127983\n"
     ]
    }
   ],
   "source": [
    "with open( os.path.join(gco_dir,'big_train_file.txt'), \"r\") as file:\n",
    "    lines = file.readlines()\n",
    "    print(len(lines))"
   ]
  },
  {
   "cell_type": "code",
   "execution_count": null,
   "id": "8ccf80cc-5877-413b-b378-8e340a5a3ac4",
   "metadata": {},
   "outputs": [],
   "source": []
  }
 ],
 "metadata": {
  "kernelspec": {
   "display_name": "Python 3 (ipykernel)",
   "language": "python",
   "name": "python3"
  },
  "language_info": {
   "codemirror_mode": {
    "name": "ipython",
    "version": 3
   },
   "file_extension": ".py",
   "mimetype": "text/x-python",
   "name": "python",
   "nbconvert_exporter": "python",
   "pygments_lexer": "ipython3",
   "version": "3.10.8"
  }
 },
 "nbformat": 4,
 "nbformat_minor": 5
}
