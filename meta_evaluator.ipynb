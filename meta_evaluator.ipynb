{
 "cells": [
  {
   "cell_type": "code",
   "execution_count": null,
   "id": "17bb2adb-a9ac-4a6d-8a91-0763a560c815",
   "metadata": {},
   "outputs": [],
   "source": [
    "from evaluation import run_evaluation\n",
    "\n",
    "directories = ['europarl','coco']\n",
    "train_sizes = [x*1000 for x in range(5,50,5)]\n",
    "number_epochs = [100, 150, 200]\n",
    "\n",
    "for tsz in train_sizes:\n",
    "    val_test_size = int(tsz/4)\n",
    "    write_new_files(tsz, val_test_size,val_test_size)\n",
    "    write_coco_files(tsz, val_test_size, val_test_size)\n",
    "    for directory in directories:        \n",
    "        for epochs in number_epochs:\n",
    "            print(\"---\"*20)\n",
    "            print(f'Training with trainset {directory}, with {tsz} sentences, {epochs} epochs')\n",
    "            run_pipeline(directory,epochs)"
   ]
  }
 ],
 "metadata": {
  "kernelspec": {
   "display_name": "Python 3",
   "language": "python",
   "name": "python3"
  },
  "language_info": {
   "codemirror_mode": {
    "name": "ipython",
    "version": 3
   },
   "file_extension": ".py",
   "mimetype": "text/x-python",
   "name": "python",
   "nbconvert_exporter": "python",
   "pygments_lexer": "ipython3",
   "version": "3.6.9"
  }
 },
 "nbformat": 4,
 "nbformat_minor": 5
}
