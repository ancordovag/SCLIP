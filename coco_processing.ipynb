{
 "cells": [
  {
   "cell_type": "code",
   "execution_count": 19,
   "id": "f7bbb815-2aa1-464b-ae50-56fc351ff62a",
   "metadata": {},
   "outputs": [],
   "source": [
    "import json"
   ]
  },
  {
   "cell_type": "code",
   "execution_count": 20,
   "id": "002a496a-aa57-4631-a479-94012539013c",
   "metadata": {},
   "outputs": [],
   "source": [
    "directory = 'coco/'\n",
    "file_train = directory + 'captions_train2017.json'\n",
    "file_val = directory + 'captions_val2017.json'"
   ]
  },
  {
   "cell_type": "code",
   "execution_count": 21,
   "id": "6180c7dc-fa42-4428-8855-b271f9d38c68",
   "metadata": {},
   "outputs": [
    {
     "name": "stdout",
     "output_type": "stream",
     "text": [
      "Number of written lines: 25014\n"
     ]
    }
   ],
   "source": [
    "f_val = open(file_val)\n",
    "\n",
    "# returns JSON object as a dictionary\n",
    "val_data = json.load(f_val)\n",
    "\n",
    "dirname = 'coco/'\n",
    "train_file = open(dirname + 'train_sentences.txt',mode='w',encoding='utf-8')\n",
    "valid_file = open(dirname + 'valid_sentences.txt',mode='w',encoding='utf-8')\n",
    "\n",
    "# Iterating through the json list\n",
    "count = 0\n",
    "for element in val_data[\"annotations\"]:\n",
    "    caption = element[\"caption\"]\n",
    "    if caption != \"\":\n",
    "        count += 1\n",
    "        valid_file.write(caption + '\\n')\n",
    "print(\"Number of written lines: {}\".format(count))\n",
    " \n",
    "# Closing file\n",
    "f_val.close()\n",
    "train_file.close()\n",
    "valid_file.close()\n"
   ]
  },
  {
   "cell_type": "code",
   "execution_count": null,
   "id": "d2d85fee-6d96-48aa-b34d-a7c851f03ffe",
   "metadata": {},
   "outputs": [],
   "source": []
  }
 ],
 "metadata": {
  "kernelspec": {
   "display_name": "Python 3",
   "language": "python",
   "name": "python3"
  },
  "language_info": {
   "codemirror_mode": {
    "name": "ipython",
    "version": 3
   },
   "file_extension": ".py",
   "mimetype": "text/x-python",
   "name": "python",
   "nbconvert_exporter": "python",
   "pygments_lexer": "ipython3",
   "version": "3.6.9"
  }
 },
 "nbformat": 4,
 "nbformat_minor": 5
}
