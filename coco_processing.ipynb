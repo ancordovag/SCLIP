{
 "cells": [
  {
   "cell_type": "code",
   "execution_count": 12,
   "id": "f7bbb815-2aa1-464b-ae50-56fc351ff62a",
   "metadata": {},
   "outputs": [],
   "source": [
    "import json"
   ]
  },
  {
   "cell_type": "code",
   "execution_count": 13,
   "id": "002a496a-aa57-4631-a479-94012539013c",
   "metadata": {},
   "outputs": [],
   "source": [
    "directory = 'coco/'\n",
    "file_train = directory + 'captions_train2017.json'\n",
    "file_val = directory + 'captions_val2017.json'"
   ]
  },
  {
   "cell_type": "code",
   "execution_count": 14,
   "id": "6180c7dc-fa42-4428-8855-b271f9d38c68",
   "metadata": {},
   "outputs": [],
   "source": [
    "f_val = open(file_val)\n",
    "val_data = json.load(f_val) # 25014 lines\n",
    "valid_file = open(directory + 'valid_sentences.txt',mode='w',encoding='utf-8')"
   ]
  },
  {
   "cell_type": "code",
   "execution_count": 15,
   "id": "d2d85fee-6d96-48aa-b34d-a7c851f03ffe",
   "metadata": {},
   "outputs": [
    {
     "name": "stdout",
     "output_type": "stream",
     "text": [
      "Number of written lines for validation: 1000\n"
     ]
    }
   ],
   "source": [
    "# Creating Validation file\n",
    "count = 0\n",
    "for element in val_data[\"annotations\"]:\n",
    "    caption = element[\"caption\"]\n",
    "    count += 1\n",
    "    valid_file.write(caption + '\\n')\n",
    "    if count >= 1000:\n",
    "        break\n",
    "# closing files\n",
    "f_val.close()\n",
    "valid_file.close()\n",
    "print(\"Number of written lines for validation: {}\".format(count))"
   ]
  },
  {
   "cell_type": "code",
   "execution_count": 21,
   "id": "9d9a89b0-feb3-4ab8-867e-bddaf20c1952",
   "metadata": {},
   "outputs": [],
   "source": [
    "f_train = open(file_train) # 591753 lines\n",
    "train_data = json.load(f_train)\n",
    "train_file = open(directory + 'train_sentences.txt',mode='w',encoding='utf-8')\n",
    "test_file = open(directory + 'test_sentences.txt',mode='w',encoding='utf-8')"
   ]
  },
  {
   "cell_type": "code",
   "execution_count": 22,
   "id": "13c5190f-4d52-4dbf-9440-1eae948b6401",
   "metadata": {},
   "outputs": [
    {
     "name": "stdout",
     "output_type": "stream",
     "text": [
      "Number of written lines for training: 5000\n",
      "Number of written lines for testing: 1001\n"
     ]
    }
   ],
   "source": [
    "count = 0\n",
    "train_count = 0\n",
    "for element in train_data[\"annotations\"]:\n",
    "    caption = element[\"caption\"]\n",
    "    count += 1\n",
    "    if count <= 5000:\n",
    "        train_count += 1\n",
    "        train_file.write(caption + '\\n')\n",
    "    elif count <= 6000:\n",
    "        test_file.write(caption + '\\n')\n",
    "    else:\n",
    "        break\n",
    "# Closing files\n",
    "f_train.close()\n",
    "train_file.close()\n",
    "test_file.close()\n",
    "print(\"Number of written lines for training: {}\".format(train_count))\n",
    "print(\"Number of written lines for testing: {}\".format(count-train_count))"
   ]
  },
  {
   "cell_type": "code",
   "execution_count": null,
   "id": "e4648919-8529-4d67-abd1-c9df6e9a8836",
   "metadata": {},
   "outputs": [],
   "source": []
  }
 ],
 "metadata": {
  "kernelspec": {
   "display_name": "Python 3",
   "language": "python",
   "name": "python3"
  },
  "language_info": {
   "codemirror_mode": {
    "name": "ipython",
    "version": 3
   },
   "file_extension": ".py",
   "mimetype": "text/x-python",
   "name": "python",
   "nbconvert_exporter": "python",
   "pygments_lexer": "ipython3",
   "version": "3.6.9"
  }
 },
 "nbformat": 4,
 "nbformat_minor": 5
}
