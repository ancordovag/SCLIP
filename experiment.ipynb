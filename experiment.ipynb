{
 "cells": [
  {
   "cell_type": "code",
   "execution_count": 16,
   "id": "72f9a506-ce94-4257-a35e-2ebe95b653c1",
   "metadata": {},
   "outputs": [],
   "source": [
    "import numpy as np\n",
    "import json\n",
    "import torch\n",
    "import torch.nn as nn\n",
    "from networks import SCLIPNN\n",
    "import clip\n",
    "from PIL import Image\n",
    "from sentence_transformers import SentenceTransformer\n",
    "import torchvision.transforms.functional as fn"
   ]
  },
  {
   "cell_type": "code",
   "execution_count": 17,
   "id": "4c1a6681-6ff0-4d37-b1a8-3fb5e6ce3b2d",
   "metadata": {},
   "outputs": [],
   "source": [
    "device = \"cuda\" if torch.cuda.is_available() else \"cpu\"\n",
    "sbert_model = SentenceTransformer('distiluse-base-multilingual-cased-v1')\n",
    "clip_model, preprocess = clip.load(\"ViT-B/32\", device=device)"
   ]
  },
  {
   "cell_type": "code",
   "execution_count": 18,
   "id": "4278ff2a-8e4b-468c-abbb-3ddee4f08d1a",
   "metadata": {},
   "outputs": [],
   "source": [
    "f_json =  open('coco/pairs.json',mode='r',encoding='utf-8')\n",
    "pairs_data = json.load(f_json)\n",
    "images = []\n",
    "captions = []\n",
    "for pair in pairs_data:\n",
    "    images.append(pair[\"image_id\"])\n",
    "    captions.append(pair[\"caption\"])"
   ]
  },
  {
   "cell_type": "code",
   "execution_count": 11,
   "id": "0be2a0cb-b450-44b9-9073-235f44cd1001",
   "metadata": {},
   "outputs": [],
   "source": [
    "def reshape(im):\n",
    "    print(\"This is size of original image:\",im.size, \"\\n\")\n",
    "    width, height = im.size\n",
    "    # print(\"W: {} and H: {}\".format(width, height))\n",
    "    if width > 1000 or height > 1000:\n",
    "        scale = 3\n",
    "    elif width > 500 or height > 500:\n",
    "        scale = 2\n",
    "    else:\n",
    "        scale = 1    \n",
    "    new_width = int(width / scale)\n",
    "    new_height = int(height / scale)\n",
    "    #image = preprocess(im)\n",
    "    image = fn.resize(im, size=[new_width])\n",
    "    print(\"This is size of resized image:\",image.size, \"\\n\")\n",
    "    return image"
   ]
  },
  {
   "cell_type": "code",
   "execution_count": 13,
   "id": "d2fab58c-85bd-4007-a2ee-55b52de3fa7f",
   "metadata": {},
   "outputs": [],
   "source": [
    "def get_logits(image_features, text_features):\n",
    "    # normalized features\n",
    "    if text_features.dtype == torch.int64:\n",
    "        text_features = text_features.type(torch.FloatTensor)\n",
    "    image_features = (image_features / image_features.norm(dim=-1, keepdim=True)).to(device)\n",
    "    text_features = (text_features / text_features.norm(dim=-1, keepdim=True)).to(device)\n",
    "\n",
    "    # cosine similarity as logits\n",
    "    logit_scale = nn.Parameter(torch.ones([]) * np.log(1 / 0.07))\n",
    "    logit_scale = logit_scale.exp().to(device)\n",
    "    logits_per_image = logit_scale * image_features @ text_features.t()\n",
    "    logits_per_text = logits_per_image.t()\n",
    "\n",
    "    # shape = [global_batch_size, global_batch_size]\n",
    "    return logits_per_image, logits_per_text  "
   ]
  },
  {
   "cell_type": "code",
   "execution_count": null,
   "id": "ea774706-c674-43b6-a025-64603064008b",
   "metadata": {},
   "outputs": [],
   "source": [
    "def sbert_to_clip(sbert_features):\n",
    "    input_size = sbert_features.shape[1]\n",
    "    PATH = \"models/best_model.pt\"\n",
    "    model = SCLIPNN(input_size,850)\n",
    "    model.load_state_dict(torch.load(PATH))\n",
    "    model.eval()\n",
    "    output = model(sbert_features)\n",
    "    return output"
   ]
  },
  {
   "cell_type": "code",
   "execution_count": null,
   "id": "eb1f3a56-0a4b-4fbd-9c5b-05160c0069d7",
   "metadata": {},
   "outputs": [],
   "source": [
    "with torch.no_grad():\n",
    "    print(\"Sentence in Spanish: {}\".format(spanish_sentences))\n",
    "    print(\"Sentence in English: {}\".format(english_sentences))\n",
    "    sp_sbert_features = torch.from_numpy(sbert_model.encode(spanish_sentences))\n",
    "    sp_sbert_features = sbert_to_clip(sp_sbert_features).type(torch.float16)\n",
    "    en_sbert_features = torch.from_numpy(sbert_model.encode(english_sentences))\n",
    "    en_sbert_features = sbert_to_clip(en_sbert_features).type(torch.float16)\n",
    "    sp_clip_features = clip_model.encode_text(sp_text)\n",
    "    en_clip_features = clip_model.encode_text(en_text)\n",
    "    for name, im in images.items():\n",
    "        image = preprocess(im).unsqueeze(0).to(device)\n",
    "        image_features = clip_model.encode_image(image)\n",
    "        sp_logits_image_clip, sp_logits_text_clip = get_logits(image_features, sp_clip_features)\n",
    "        sp_logits_image_sbert, sp_logits_text_sbert = get_logits(image_features, sp_sbert_features)\n",
    "        sp_probs_clip = sp_logits_image_clip.softmax(dim=-1).cpu().numpy()\n",
    "        sp_probs_sbert = sp_logits_image_sbert.softmax(dim=-1).cpu().numpy()\n",
    "        en_logits_image_clip, en_logits_text_clip = get_logits(image_features, en_clip_features)\n",
    "        en_logits_image_sbert, en_logits_text_sbert = get_logits(image_features, en_sbert_features)\n",
    "        en_probs_clip = en_logits_image_clip.softmax(dim=-1).cpu().numpy()\n",
    "        en_probs_sbert = en_logits_image_sbert.softmax(dim=-1).cpu().numpy()\n",
    "        print('-'*30, ' Image: {} '.format(name),'-'*30)\n",
    "        print(\"Spanish CLIP probs:\", sp_probs_clip[0]) \n",
    "        print(\"Spanish SBERT probs:\", sp_probs_sbert[0]) \n",
    "        print(\"English CLIP probs:\", en_probs_clip[0]) \n",
    "        print(\"English SBERT probs:\", en_probs_sbert[0]) "
   ]
  }
 ],
 "metadata": {
  "kernelspec": {
   "display_name": "Python 3",
   "language": "python",
   "name": "python3"
  },
  "language_info": {
   "codemirror_mode": {
    "name": "ipython",
    "version": 3
   },
   "file_extension": ".py",
   "mimetype": "text/x-python",
   "name": "python",
   "nbconvert_exporter": "python",
   "pygments_lexer": "ipython3",
   "version": "3.6.9"
  }
 },
 "nbformat": 4,
 "nbformat_minor": 5
}
