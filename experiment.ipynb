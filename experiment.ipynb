{
 "cells": [
  {
   "cell_type": "code",
   "execution_count": 63,
   "id": "72f9a506-ce94-4257-a35e-2ebe95b653c1",
   "metadata": {},
   "outputs": [],
   "source": [
    "import numpy as np\n",
    "import json\n",
    "import torch\n",
    "import torch.nn as nn\n",
    "from networks import SCLIPNN\n",
    "import clip\n",
    "from PIL import Image\n",
    "from sentence_transformers import SentenceTransformer\n",
    "import torchvision.transforms.functional as fn\n",
    "import pandas as pd\n",
    "import yaml\n",
    "import os"
   ]
  },
  {
   "cell_type": "code",
   "execution_count": 64,
   "id": "37af0fba-1bc3-4784-9b5c-72713397d506",
   "metadata": {},
   "outputs": [],
   "source": [
    "device = \"cuda\" if torch.cuda.is_available() else \"cpu\"\n",
    "with open(\"config.yml\", \"r\") as ymlfile:\n",
    "    cfg = yaml.safe_load(ymlfile)\n",
    "directory = cfg[\"dataset\"][\"dirname\"]\n",
    "image_directory = cfg[\"dataset\"][\"images\"]\n",
    "languages = cfg[\"languages\"]"
   ]
  },
  {
   "cell_type": "code",
   "execution_count": 65,
   "id": "4c1a6681-6ff0-4d37-b1a8-3fb5e6ce3b2d",
   "metadata": {},
   "outputs": [],
   "source": [
    "sbert_model = SentenceTransformer('all-MiniLM-L6-v2') #distiluse-base-multilingual-cased-v1') #\n",
    "clip_model, preprocess = clip.load(\"ViT-B/32\", device=device)"
   ]
  },
  {
   "cell_type": "code",
   "execution_count": 66,
   "id": "0be2a0cb-b450-44b9-9073-235f44cd1001",
   "metadata": {},
   "outputs": [],
   "source": [
    "def reshape(im):\n",
    "    print(\"This is size of original image:\",im.size, \"\\n\")\n",
    "    width, height = im.size\n",
    "    # print(\"W: {} and H: {}\".format(width, height))\n",
    "    if width > 1000 or height > 1000:\n",
    "        scale = 3\n",
    "    elif width > 500 or height > 500:\n",
    "        scale = 2\n",
    "    else:\n",
    "        scale = 1    \n",
    "    new_width = int(width / scale)\n",
    "    new_height = int(height / scale)\n",
    "    #image = preprocess(im)\n",
    "    image = fn.resize(im, size=[new_width])\n",
    "    print(\"This is size of resized image:\",image.size, \"\\n\")\n",
    "    return image"
   ]
  },
  {
   "cell_type": "code",
   "execution_count": 67,
   "id": "d2fab58c-85bd-4007-a2ee-55b52de3fa7f",
   "metadata": {},
   "outputs": [],
   "source": [
    "def get_logits(image_features, text_features):\n",
    "    # normalized features\n",
    "    if text_features.dtype == torch.int64:\n",
    "        text_features = text_features.type(torch.FloatTensor)\n",
    "    image_features = (image_features / image_features.norm(dim=-1, keepdim=True)).to(device)\n",
    "    text_features = (text_features / text_features.norm(dim=-1, keepdim=True)).to(device)\n",
    "\n",
    "    # cosine similarity as logits\n",
    "    logit_scale = nn.Parameter(torch.ones([]) * np.log(1 / 0.07))\n",
    "    logit_scale = logit_scale.exp().to(device)\n",
    "    logits_per_image = logit_scale * image_features @ text_features.t()\n",
    "    logits_per_text = logits_per_image.t()\n",
    "\n",
    "    # shape = [global_batch_size, global_batch_size]\n",
    "    return logits_per_image, logits_per_text  "
   ]
  },
  {
   "cell_type": "code",
   "execution_count": 68,
   "id": "ea774706-c674-43b6-a025-64603064008b",
   "metadata": {},
   "outputs": [],
   "source": [
    "def sbert_to_clip(sbert_features, name_model):\n",
    "    splitted_name = name_model.split(\"_\")\n",
    "    hidden_size = int(splitted_name[2])\n",
    "    input_size = sbert_features.shape[1]\n",
    "    PATH = os.path.join(\"models\",name_model)\n",
    "    model = SCLIPNN(input_size,hidden_size)\n",
    "    model.load_state_dict(torch.load(PATH))\n",
    "    model.eval()\n",
    "    output = model(sbert_features)\n",
    "    return output"
   ]
  },
  {
   "cell_type": "code",
   "execution_count": 69,
   "id": "ab389a91-26a4-458f-9715-2b1f530af6ec",
   "metadata": {},
   "outputs": [],
   "source": [
    "def get_image(directory, image_id):\n",
    "    image = Image.open(directory + image_id)\n",
    "    return image"
   ]
  },
  {
   "cell_type": "code",
   "execution_count": 70,
   "id": "2fb20e4f-c0a3-47d7-b859-19e72482e34c",
   "metadata": {},
   "outputs": [],
   "source": [
    "def reciprocal_rank(probs, value):\n",
    "    N = len(probs)\n",
    "    copy_probs = list(probs.copy())\n",
    "    for i in range(N):\n",
    "        max_value = max(copy_probs)\n",
    "        if max_value == value:\n",
    "            return 1/(i + 1)\n",
    "        else:\n",
    "            copy_probs.remove(max_value)\n",
    "    return 1/N"
   ]
  },
  {
   "cell_type": "code",
   "execution_count": 72,
   "id": "eb1f3a56-0a4b-4fbd-9c5b-05160c0069d7",
   "metadata": {},
   "outputs": [
    {
     "name": "stdout",
     "output_type": "stream",
     "text": [
      "Processing captions in English...\n",
      "Processing captions in Spanish...\n",
      "Processing captions in Italian...\n",
      "Processing captions in German...\n",
      "Processing captions in French...\n",
      "Done\n",
      "Forbidden Languages: []\n"
     ]
    }
   ],
   "source": [
    "def get_MRR(model, directory, languages, sbert_model, captions, images_features, clip_features):\n",
    "    sbert_lang_performance = []\n",
    "    clip_lang_performance = []\n",
    "    sbert_lang_errors = []\n",
    "    clip_lang_errors = []\n",
    "    sbert_lang_mrr = []\n",
    "    clip_lang_mrr = []\n",
    "    vetoed = []\n",
    "    for lang, code in languages.items():\n",
    "        print(\"Processing captions in \"+ lang +\"...\")\n",
    "        f_json =  open(directory + code + \"_pairs.json\",mode='r',encoding='utf-8')\n",
    "        pairs_data = json.load(f_json)\n",
    "        images = []\n",
    "        captions = []\n",
    "        for pair in pairs_data:\n",
    "            images.append(pair[\"image_id\"])\n",
    "            captions.append(pair[\"caption\"])\n",
    "\n",
    "        # Model to use\n",
    "        name_of_model = \"coco_NN_900_e300_s400000.pt\"\n",
    "\n",
    "        with torch.no_grad():\n",
    "            try:\n",
    "                torch_features = torch.from_numpy(sbert_model.encode(captions))\n",
    "                sbert_features = sbert_to_clip(torch_features,name_of_model).type(torch.float16)\n",
    "                tokenized_features = clip.tokenize(captions).to(device)\n",
    "                clip_features = clip_model.encode_text(tokenized_features)\n",
    "            except:\n",
    "                print(\"Not able to tokenize in {}. Skipping language {}\".format(lang, code))\n",
    "                vetoed.append(lang)\n",
    "                continue\n",
    "\n",
    "            sbert_performance = []\n",
    "            clip_performance = []\n",
    "            sbert_errors = 0\n",
    "            clip_errors = 0\n",
    "            sbert_rr = 0\n",
    "            clip_rr = 0\n",
    "            counter = 0\n",
    "\n",
    "            for image_id in images:\n",
    "                # Get the encoding of the image\n",
    "                im = get_image(image_directory, image_id)\n",
    "                image = preprocess(im).unsqueeze(0).to(device)\n",
    "                image_features = clip_model.encode_image(image)\n",
    "\n",
    "                # Get the probabilities for SBERT and CLIP\n",
    "                logits_image_sbert, logits_text_sbert = get_logits(image_features, sbert_features)\n",
    "                logits_image_clip, logits_text_clip = get_logits(image_features, clip_features)\n",
    "                probs_clip = logits_image_clip.softmax(dim=-1).cpu().numpy()\n",
    "                probs_sbert = logits_image_sbert.softmax(dim=-1).cpu().numpy()\n",
    "\n",
    "                # Append the probs to array            \n",
    "                ps = probs_sbert[0][counter]\n",
    "                sbert_rr += reciprocal_rank(probs_sbert[0],ps)\n",
    "                sbert_performance.append(ps)\n",
    "                if ps < max(probs_sbert[0]):\n",
    "                    sbert_errors += 1\n",
    "                pc = probs_clip[0][counter]\n",
    "                clip_rr += reciprocal_rank(probs_clip[0],pc)\n",
    "                clip_performance.append(pc)\n",
    "                if pc < max(probs_clip[0]):\n",
    "                    clip_errors += 1\n",
    "                counter += 1\n",
    "\n",
    "        # print(\"Images processed: {}\".format(counter))\n",
    "        # print(\"Classifications errors: SBERT --> {} ; CLIP --> {}\".format(sbert_errors,clip_errors))\n",
    "        sbert_lang_performance.append(round(sum(sbert_performance)/counter,6))\n",
    "        clip_lang_performance.append(round(sum(clip_performance)/counter,6))\n",
    "        sbert_lang_mrr.append(round(sbert_rr/counter,4))\n",
    "        clip_lang_mrr.append(round(clip_rr/counter,4))\n",
    "        sbert_lang_errors.append(sbert_errors)\n",
    "        clip_lang_errors.append(clip_errors)\n",
    "    print(\"Done\")\n",
    "    print(\"Forbidden Languages: {}\".format(vetoed))\n",
    "\n",
    "    return sbert_lang_performance, clip_lang_performance, sbert_lang_mrr, clip_lang_mrr, sbert_lang_errors, clip_lang_errors"
   ]
  },
  {
   "cell_type": "code",
   "execution_count": 73,
   "id": "b10e373c-4ad9-4b80-9a56-339d0affbc58",
   "metadata": {},
   "outputs": [],
   "source": [
    "r = dict(languages)\n",
    "for k in vetoed:\n",
    "    if k in r:\n",
    "        del r[k]\n",
    "languages = r"
   ]
  },
  {
   "cell_type": "code",
   "execution_count": 74,
   "id": "830874c7-3dc4-4c8e-94c3-608063e22e1d",
   "metadata": {},
   "outputs": [
    {
     "name": "stdout",
     "output_type": "stream",
     "text": [
      "Languages: {'English': 'en', 'Spanish': 'es', 'Italian': 'it', 'German': 'de', 'French': 'fr'}\n",
      "SBERT performance: [0.063924, 0.057844, 0.058054, 0.059676, 0.062021]\n",
      "CLIP performance: [0.091794, 0.039343, 0.034438, 0.033382, 0.042905]\n"
     ]
    }
   ],
   "source": [
    "print(\"Languages: {}\".format(languages))\n",
    "print(\"SBERT performance: {}\".format(sbert_lang_performance))\n",
    "print(\"CLIP performance: {}\".format(clip_lang_performance))"
   ]
  },
  {
   "cell_type": "code",
   "execution_count": 75,
   "id": "869665bb-9fda-4137-ad1c-0ed9a3e42104",
   "metadata": {},
   "outputs": [
    {
     "data": {
      "text/html": [
       "<div>\n",
       "<style scoped>\n",
       "    .dataframe tbody tr th:only-of-type {\n",
       "        vertical-align: middle;\n",
       "    }\n",
       "\n",
       "    .dataframe tbody tr th {\n",
       "        vertical-align: top;\n",
       "    }\n",
       "\n",
       "    .dataframe thead th {\n",
       "        text-align: right;\n",
       "    }\n",
       "</style>\n",
       "<table border=\"1\" class=\"dataframe\">\n",
       "  <thead>\n",
       "    <tr style=\"text-align: right;\">\n",
       "      <th></th>\n",
       "      <th>SBERT</th>\n",
       "      <th>CLIP</th>\n",
       "      <th>error SBERT</th>\n",
       "      <th>error CLIP</th>\n",
       "      <th>MRR sbert</th>\n",
       "      <th>MRR clip</th>\n",
       "    </tr>\n",
       "  </thead>\n",
       "  <tbody>\n",
       "    <tr>\n",
       "      <th>English</th>\n",
       "      <td>0.063924</td>\n",
       "      <td>0.091794</td>\n",
       "      <td>25</td>\n",
       "      <td>18</td>\n",
       "      <td>0.7825</td>\n",
       "      <td>0.8511</td>\n",
       "    </tr>\n",
       "    <tr>\n",
       "      <th>Spanish</th>\n",
       "      <td>0.057844</td>\n",
       "      <td>0.039343</td>\n",
       "      <td>30</td>\n",
       "      <td>38</td>\n",
       "      <td>0.7374</td>\n",
       "      <td>0.6481</td>\n",
       "    </tr>\n",
       "    <tr>\n",
       "      <th>Italian</th>\n",
       "      <td>0.058054</td>\n",
       "      <td>0.034438</td>\n",
       "      <td>33</td>\n",
       "      <td>45</td>\n",
       "      <td>0.7144</td>\n",
       "      <td>0.5564</td>\n",
       "    </tr>\n",
       "    <tr>\n",
       "      <th>German</th>\n",
       "      <td>0.059676</td>\n",
       "      <td>0.033382</td>\n",
       "      <td>27</td>\n",
       "      <td>44</td>\n",
       "      <td>0.7567</td>\n",
       "      <td>0.5554</td>\n",
       "    </tr>\n",
       "    <tr>\n",
       "      <th>French</th>\n",
       "      <td>0.062021</td>\n",
       "      <td>0.042905</td>\n",
       "      <td>29</td>\n",
       "      <td>33</td>\n",
       "      <td>0.7523</td>\n",
       "      <td>0.6816</td>\n",
       "    </tr>\n",
       "  </tbody>\n",
       "</table>\n",
       "</div>"
      ],
      "text/plain": [
       "            SBERT      CLIP  error SBERT  error CLIP  MRR sbert  MRR clip\n",
       "English  0.063924  0.091794           25          18     0.7825    0.8511\n",
       "Spanish  0.057844  0.039343           30          38     0.7374    0.6481\n",
       "Italian  0.058054  0.034438           33          45     0.7144    0.5564\n",
       "German   0.059676  0.033382           27          44     0.7567    0.5554\n",
       "French   0.062021  0.042905           29          33     0.7523    0.6816"
      ]
     },
     "execution_count": 75,
     "metadata": {},
     "output_type": "execute_result"
    }
   ],
   "source": [
    "results = pd.DataFrame({\"SBERT\":sbert_lang_performance, \"CLIP\": clip_lang_performance,\n",
    "                        \"error SBERT\":sbert_lang_errors, \"error CLIP\":clip_lang_errors,\n",
    "                       \"MRR sbert\":sbert_lang_mrr, \"MRR clip\": clip_lang_mrr}, \n",
    "                       index=languages)\n",
    "results"
   ]
  },
  {
   "cell_type": "code",
   "execution_count": 76,
   "id": "04d73b37-73ee-4ba1-a3fe-5725c43d62e0",
   "metadata": {},
   "outputs": [
    {
     "data": {
      "image/png": "[encoded data removed]",
      "text/plain": [
       "<Figure size 1440x576 with 1 Axes>"
      ]
     },
     "metadata": {
      "needs_background": "light"
     },
     "output_type": "display_data"
    }
   ],
   "source": [
    "import matplotlib.pyplot as plt\n",
    "X_axis = np.arange(len(languages.keys()))\n",
    "figure_name = plt.figure(figsize=(20, 8))\n",
    "plt.bar(X_axis-0.2, sbert_lang_mrr, 0.4, color = 'blue', edgecolor = 'black', capsize=7, label='SBERT MRR')\n",
    "plt.bar(X_axis+0.2, clip_lang_mrr, 0.4, color = 'red', edgecolor = 'black', capsize=7, label='CLIP MRR')\n",
    "plt.xticks(rotation = 45)\n",
    "plt.xticks(X_axis, languages.keys())\n",
    "plt.legend()\n",
    "plt.show()"
   ]
  },
  {
   "cell_type": "code",
   "execution_count": null,
   "id": "f80df23b-e068-4782-8277-e60d288fb690",
   "metadata": {},
   "outputs": [],
   "source": []
  },
  {
   "cell_type": "code",
   "execution_count": null,
   "id": "ee703275-e89a-4858-bb3f-304ae4708502",
   "metadata": {},
   "outputs": [],
   "source": []
  }
 ],
 "metadata": {
  "kernelspec": {
   "display_name": "Python 3",
   "language": "python",
   "name": "python3"
  },
  "language_info": {
   "codemirror_mode": {
    "name": "ipython",
    "version": 3
   },
   "file_extension": ".py",
   "mimetype": "text/x-python",
   "name": "python",
   "nbconvert_exporter": "python",
   "pygments_lexer": "ipython3",
   "version": "3.6.9"
  }
 },
 "nbformat": 4,
 "nbformat_minor": 5
}
